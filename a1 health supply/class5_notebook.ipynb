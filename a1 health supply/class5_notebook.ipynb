{
 "cells": [
  {
   "cell_type": "markdown",
   "metadata": {},
   "source": [
    "### Class 5 - Uncertainty in Supply Chain Networks\n",
    "RSM-8423, Winter 2023"
   ]
  },
  {
   "cell_type": "markdown",
   "metadata": {},
   "source": [
    "### Modules"
   ]
  },
  {
   "cell_type": "code",
   "execution_count": 1,
   "metadata": {},
   "outputs": [],
   "source": [
    "import pandas as pd\n",
    "import numpy as np\n",
    "import matplotlib.pyplot as plt\n",
    "import seaborn as sns\n",
    "import pulp\n",
    "\n",
    "from scipy import stats\n",
    "\n",
    "# Initialize seaborn (for plotting)\n",
    "sns.set()"
   ]
  },
  {
   "cell_type": "markdown",
   "metadata": {},
   "source": [
    "### Loading and inspecting data\n",
    "\n",
    "The same as in Class 4"
   ]
  },
  {
   "cell_type": "code",
   "execution_count": 2,
   "metadata": {},
   "outputs": [
    {
     "data": {
      "text/html": [
       "<div>\n",
       "<style scoped>\n",
       "    .dataframe tbody tr th:only-of-type {\n",
       "        vertical-align: middle;\n",
       "    }\n",
       "\n",
       "    .dataframe tbody tr th {\n",
       "        vertical-align: top;\n",
       "    }\n",
       "\n",
       "    .dataframe thead th {\n",
       "        text-align: right;\n",
       "    }\n",
       "</style>\n",
       "<table border=\"1\" class=\"dataframe\">\n",
       "  <thead>\n",
       "    <tr style=\"text-align: right;\">\n",
       "      <th></th>\n",
       "      <th>Cost</th>\n",
       "      <th>Capacity</th>\n",
       "    </tr>\n",
       "    <tr>\n",
       "      <th>Depot</th>\n",
       "      <th></th>\n",
       "      <th></th>\n",
       "    </tr>\n",
       "  </thead>\n",
       "  <tbody>\n",
       "    <tr>\n",
       "      <th>1</th>\n",
       "      <td>14754</td>\n",
       "      <td>120</td>\n",
       "    </tr>\n",
       "    <tr>\n",
       "      <th>2</th>\n",
       "      <td>5242</td>\n",
       "      <td>75</td>\n",
       "    </tr>\n",
       "  </tbody>\n",
       "</table>\n",
       "</div>"
      ],
      "text/plain": [
       "        Cost  Capacity\n",
       "Depot                 \n",
       "1      14754       120\n",
       "2       5242        75"
      ]
     },
     "execution_count": 2,
     "metadata": {},
     "output_type": "execute_result"
    }
   ],
   "source": [
    "# Depots\n",
    "dfDepots = pd.read_csv(\"depots.csv\", index_col=0)\n",
    "dfDepots"
   ]
  },
  {
   "cell_type": "code",
   "execution_count": 3,
   "metadata": {},
   "outputs": [
    {
     "data": {
      "text/html": [
       "<div>\n",
       "<style scoped>\n",
       "    .dataframe tbody tr th:only-of-type {\n",
       "        vertical-align: middle;\n",
       "    }\n",
       "\n",
       "    .dataframe tbody tr th {\n",
       "        vertical-align: top;\n",
       "    }\n",
       "\n",
       "    .dataframe thead th {\n",
       "        text-align: right;\n",
       "    }\n",
       "</style>\n",
       "<table border=\"1\" class=\"dataframe\">\n",
       "  <thead>\n",
       "    <tr style=\"text-align: right;\">\n",
       "      <th></th>\n",
       "      <th>Demand Zone</th>\n",
       "      <th>Scenario</th>\n",
       "      <th>Demand</th>\n",
       "      <th>Probability</th>\n",
       "    </tr>\n",
       "  </thead>\n",
       "  <tbody>\n",
       "    <tr>\n",
       "      <th>0</th>\n",
       "      <td>1</td>\n",
       "      <td>1</td>\n",
       "      <td>10</td>\n",
       "      <td>0.4</td>\n",
       "    </tr>\n",
       "    <tr>\n",
       "      <th>1</th>\n",
       "      <td>1</td>\n",
       "      <td>2</td>\n",
       "      <td>15</td>\n",
       "      <td>0.5</td>\n",
       "    </tr>\n",
       "    <tr>\n",
       "      <th>2</th>\n",
       "      <td>1</td>\n",
       "      <td>3</td>\n",
       "      <td>100</td>\n",
       "      <td>0.1</td>\n",
       "    </tr>\n",
       "  </tbody>\n",
       "</table>\n",
       "</div>"
      ],
      "text/plain": [
       "   Demand Zone  Scenario  Demand  Probability\n",
       "0            1         1      10          0.4\n",
       "1            1         2      15          0.5\n",
       "2            1         3     100          0.1"
      ]
     },
     "execution_count": 3,
     "metadata": {},
     "output_type": "execute_result"
    }
   ],
   "source": [
    "# Demand Zones\n",
    "dfZones = pd.read_csv(\"zones.csv\")\n",
    "dfZones"
   ]
  },
  {
   "cell_type": "code",
   "execution_count": 4,
   "metadata": {},
   "outputs": [
    {
     "data": {
      "text/html": [
       "<div>\n",
       "<style scoped>\n",
       "    .dataframe tbody tr th:only-of-type {\n",
       "        vertical-align: middle;\n",
       "    }\n",
       "\n",
       "    .dataframe tbody tr th {\n",
       "        vertical-align: top;\n",
       "    }\n",
       "\n",
       "    .dataframe thead th {\n",
       "        text-align: right;\n",
       "    }\n",
       "</style>\n",
       "<table border=\"1\" class=\"dataframe\">\n",
       "  <thead>\n",
       "    <tr style=\"text-align: right;\">\n",
       "      <th></th>\n",
       "      <th>Demand Zone</th>\n",
       "      <th>Depot</th>\n",
       "      <th>Cost</th>\n",
       "    </tr>\n",
       "  </thead>\n",
       "  <tbody>\n",
       "    <tr>\n",
       "      <th>0</th>\n",
       "      <td>1</td>\n",
       "      <td>1</td>\n",
       "      <td>1998</td>\n",
       "    </tr>\n",
       "    <tr>\n",
       "      <th>1</th>\n",
       "      <td>1</td>\n",
       "      <td>2</td>\n",
       "      <td>400</td>\n",
       "    </tr>\n",
       "  </tbody>\n",
       "</table>\n",
       "</div>"
      ],
      "text/plain": [
       "   Demand Zone  Depot  Cost\n",
       "0            1      1  1998\n",
       "1            1      2   400"
      ]
     },
     "execution_count": 4,
     "metadata": {},
     "output_type": "execute_result"
    }
   ],
   "source": [
    "# Zone-depot costs\n",
    "dfZoneDepot = pd.read_csv(\"zone_depot_costs.csv\")\n",
    "dfZoneDepot"
   ]
  },
  {
   "cell_type": "markdown",
   "metadata": {},
   "source": [
    "### Sets"
   ]
  },
  {
   "cell_type": "code",
   "execution_count": 5,
   "metadata": {},
   "outputs": [],
   "source": [
    "# Depots\n",
    "depots = list(dfDepots.index)\n",
    "numdepots = len(depots)\n",
    "\n",
    "# Demand zones\n",
    "zones = list(dfZones[\"Demand Zone\"].unique())\n",
    "numzones = len(zones)\n",
    "\n",
    "# Scenarios\n",
    "scenarios = dfZones[\"Scenario\"].unique()\n",
    "numscenarios = len(scenarios)"
   ]
  },
  {
   "cell_type": "markdown",
   "metadata": {},
   "source": [
    "### Parameters"
   ]
  },
  {
   "cell_type": "code",
   "execution_count": 6,
   "metadata": {},
   "outputs": [],
   "source": [
    "# Probability of each scenario (dictionary)\n",
    "probscenario = {}\n",
    "for s in scenarios:\n",
    "    probscenario[s] = float(dfZones[dfZones[\"Scenario\"] == s].iloc[0][\"Probability\"])\n",
    "    \n",
    "# Demand in each zone and scenario (dictionary)\n",
    "zonedemand = {}\n",
    "for j in zones:\n",
    "    for s in scenarios:\n",
    "        zonedemand[(j,s)] = float(dfZones[(dfZones[\"Demand Zone\"] == j) & (dfZones[\"Scenario\"] == s)][\"Demand\"])\n",
    "\n",
    "# Depot capacities (dictionary)\n",
    "depotcapacity = {}\n",
    "for i in depots:\n",
    "    depotcapacity[i] = int(dfDepots.loc[i][\"Capacity\"])\n",
    "\n",
    "# Depot costs (dictionary)\n",
    "depotcost = {}\n",
    "for i in depots:\n",
    "    depotcost[i] = float(dfDepots.loc[i][\"Cost\"])\n",
    "    \n",
    "# Depot-zone costs (dictionary)\n",
    "depotzonecost = {}\n",
    "for i in depots:\n",
    "    for j in zones:\n",
    "        depotzonecost[(i,j)] = float(dfZoneDepot[(dfZoneDepot[\"Depot\"] == i)&(dfZoneDepot[\"Demand Zone\"] == j)][\"Cost\"])"
   ]
  },
  {
   "cell_type": "markdown",
   "metadata": {},
   "source": [
    "### Variables"
   ]
  },
  {
   "cell_type": "code",
   "execution_count": 7,
   "metadata": {},
   "outputs": [],
   "source": [
    "# Variables: if a depot is opened/allocated\n",
    "yvar = pulp.LpVariable.dict(\"y\", depots, cat=pulp.LpBinary)\n",
    "\n",
    "# Variables: amount of demand from each zone allocated to depot, per scenario\n",
    "xvar = pulp.LpVariable.dict(\"x\", (depots, zones, scenarios), lowBound=0.0, cat=pulp.LpContinuous)"
   ]
  },
  {
   "cell_type": "markdown",
   "metadata": {},
   "source": [
    "### Model initialization\n"
   ]
  },
  {
   "cell_type": "code",
   "execution_count": 8,
   "metadata": {},
   "outputs": [],
   "source": [
    "# Initialize model and objective sense\n",
    "locationModel = pulp.LpProblem(name=\"LocationModel\", sense=pulp.LpMinimize)"
   ]
  },
  {
   "cell_type": "markdown",
   "metadata": {},
   "source": [
    "### Constraints"
   ]
  },
  {
   "cell_type": "code",
   "execution_count": 9,
   "metadata": {},
   "outputs": [],
   "source": [
    "# Contraint: demand must be satisfied in all scenarios\n",
    "for j in zones:\n",
    "    for s in scenarios:    \n",
    "        locationModel += pulp.lpSum( [xvar[(i,j,s)] for i in depots] ) == zonedemand[(j,s)]\n",
    "\n",
    "# Constraint: depot capacities must be observed in all scenarios\n",
    "for i in depots:    \n",
    "    for s in scenarios:    \n",
    "        locationModel += pulp.lpSum( [xvar[(i,j,s)] for j in zones] ) <= depotcapacity[i] * yvar[i]"
   ]
  },
  {
   "cell_type": "markdown",
   "metadata": {},
   "source": [
    "### Objective function"
   ]
  },
  {
   "cell_type": "code",
   "execution_count": 10,
   "metadata": {},
   "outputs": [],
   "source": [
    "# Objective function\n",
    "\n",
    "# --- depot allocation costs\n",
    "obj = pulp.lpSum([ depotcost[i] * yvar[i] for i in depots])\n",
    "\n",
    "# --- package flow costs\n",
    "for s in scenarios:\n",
    "    obj += probscenario[s] * pulp.lpSum( [ depotzonecost[(i,j)] * xvar[(i,j,s)] for i in depots for j in zones ] )\n",
    "\n",
    "# add objective to model\n",
    "locationModel += obj"
   ]
  },
  {
   "cell_type": "markdown",
   "metadata": {},
   "source": [
    "### Solution process"
   ]
  },
  {
   "cell_type": "code",
   "execution_count": 11,
   "metadata": {},
   "outputs": [
    {
     "name": "stdout",
     "output_type": "stream",
     "text": [
      "Welcome to the CBC MILP Solver \n",
      "Version: 2.10.3 \n",
      "Build Date: Dec 15 2019 \n",
      "\n",
      "command line - /Users/cireandr/opt/anaconda3/lib/python3.9/site-packages/pulp/apis/../solverdir/cbc/osx/64/cbc /var/folders/p6/k9kpfkxx7h78ybc6p8j_mp2m0000gp/T/794b791846354e339b24520a734a6157-pulp.mps timeMode elapsed branch printingOptions all solution /var/folders/p6/k9kpfkxx7h78ybc6p8j_mp2m0000gp/T/794b791846354e339b24520a734a6157-pulp.sol (default strategy 1)\n",
      "At line 2 NAME          MODEL\n",
      "At line 3 ROWS\n",
      "At line 14 COLUMNS\n",
      "At line 45 RHS\n",
      "At line 55 BOUNDS\n",
      "At line 58 ENDATA\n",
      "Problem MODEL has 9 rows, 8 columns and 18 elements\n",
      "Coin0008I MODEL read with 0 errors\n",
      "Option for timeMode changed from cpu to elapsed\n",
      "Continuous objective value is 20910.8 - 0.00 seconds\n",
      "Cgl0004I processed model has 3 rows, 4 columns (1 integer (1 of which binary)) and 6 elements\n",
      "Cbc0038I Initial state - 0 integers unsatisfied sum - 0\n",
      "Cbc0038I Solution found of 32591\n",
      "Cbc0038I Relaxing continuous gives 32591\n",
      "Cbc0038I Before mini branch and bound, 1 integers at bound fixed and 2 continuous\n",
      "Cbc0038I Mini branch and bound did not improve solution (0.02 seconds)\n",
      "Cbc0038I After 0.02 seconds - Feasibility pump exiting with objective of 32591 - took 0.00 seconds\n",
      "Cbc0012I Integer solution of 32591 found by feasibility pump after 0 iterations and 0 nodes (0.02 seconds)\n",
      "Cbc0001I Search completed - best objective 32591, took 0 iterations and 0 nodes (0.02 seconds)\n",
      "Cbc0035I Maximum depth 0, 0 variables fixed on reduced cost\n",
      "Cuts at root node changed objective from 32591 to 32591\n",
      "Probing was tried 0 times and created 0 cuts of which 0 were active after adding rounds of cuts (0.000 seconds)\n",
      "Gomory was tried 0 times and created 0 cuts of which 0 were active after adding rounds of cuts (0.000 seconds)\n",
      "Knapsack was tried 0 times and created 0 cuts of which 0 were active after adding rounds of cuts (0.000 seconds)\n",
      "Clique was tried 0 times and created 0 cuts of which 0 were active after adding rounds of cuts (0.000 seconds)\n",
      "MixedIntegerRounding2 was tried 0 times and created 0 cuts of which 0 were active after adding rounds of cuts (0.000 seconds)\n",
      "FlowCover was tried 0 times and created 0 cuts of which 0 were active after adding rounds of cuts (0.000 seconds)\n",
      "TwoMirCuts was tried 0 times and created 0 cuts of which 0 were active after adding rounds of cuts (0.000 seconds)\n",
      "ZeroHalf was tried 0 times and created 0 cuts of which 0 were active after adding rounds of cuts (0.000 seconds)\n",
      "\n",
      "Result - Optimal solution found\n",
      "\n",
      "Objective value:                32591.00000000\n",
      "Enumerated nodes:               0\n",
      "Total iterations:               0\n",
      "Time (CPU seconds):             0.00\n",
      "Time (Wallclock seconds):       0.02\n",
      "\n",
      "Option for printingOptions changed from normal to all\n",
      "Total time (CPU seconds):       0.00   (Wallclock seconds):       0.03\n",
      "\n",
      "Status: Optimal\n"
     ]
    }
   ],
   "source": [
    "# Write LP to file (optional, but often good to inspect model and find errors)\n",
    "locationModel.writeLP(\"locationModel.lp\")\n",
    "\n",
    "# Solve model\n",
    "locationModel.solve()\n",
    "print(\"Status:\", pulp.LpStatus[locationModel.status])"
   ]
  },
  {
   "cell_type": "code",
   "execution_count": 12,
   "metadata": {},
   "outputs": [
    {
     "name": "stdout",
     "output_type": "stream",
     "text": [
      "Total cost: 32591.0\n"
     ]
    }
   ],
   "source": [
    "# Total cost\n",
    "totalCost = pulp.value(locationModel.objective)\n",
    "print(\"Total cost: \" + str(totalCost))"
   ]
  },
  {
   "cell_type": "code",
   "execution_count": 13,
   "metadata": {},
   "outputs": [
    {
     "name": "stdout",
     "output_type": "stream",
     "text": [
      "Depot 1 is opened\n",
      "\tScenario 1:\n",
      "\tScenario 2:\n",
      "\tScenario 3:\n",
      "\t\tServes zone 1 - with capacity 25.0\n",
      "Depot 2 is opened\n",
      "\tScenario 1:\n",
      "\t\tServes zone 1 - with capacity 10.0\n",
      "\tScenario 2:\n",
      "\t\tServes zone 1 - with capacity 15.0\n",
      "\tScenario 3:\n",
      "\t\tServes zone 1 - with capacity 75.0\n"
     ]
    }
   ],
   "source": [
    "# Print solution (you can add to the dataframe if needed)\n",
    "for i in depots:\n",
    "    if yvar[i].varValue >= 1.0:\n",
    "        print(\"Depot \" + str(i) + \" is opened\")\n",
    "        \n",
    "        for s in scenarios:\n",
    "            print(\"\\tScenario \" + str(s) + \":\")\n",
    "            for j in zones:\n",
    "                if xvar[(i,j,s)].varValue > 0.0:\n",
    "                    print(\"\\t\\tServes zone \" + str(j) + \" - with capacity \" + str(xvar[(i,j,s)].varValue))"
   ]
  }
 ],
 "metadata": {
  "kernelspec": {
   "display_name": "Python 3 (ipykernel)",
   "language": "python",
   "name": "python3"
  },
  "language_info": {
   "codemirror_mode": {
    "name": "ipython",
    "version": 3
   },
   "file_extension": ".py",
   "mimetype": "text/x-python",
   "name": "python",
   "nbconvert_exporter": "python",
   "pygments_lexer": "ipython3",
   "version": "3.9.7"
  }
 },
 "nbformat": 4,
 "nbformat_minor": 2
}
